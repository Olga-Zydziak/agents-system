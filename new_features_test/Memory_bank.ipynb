{
 "cells": [
  {
   "cell_type": "code",
   "execution_count": 1,
   "id": "a9c08fe1-8b3a-4469-9a3c-775789bd5b56",
   "metadata": {
    "tags": []
   },
   "outputs": [],
   "source": [
    "import json\n",
    "import hashlib\n",
    "from datetime import datetime\n",
    "from typing import Any, Dict, Optional, Callable\n",
    "import vertexai\n",
    "from vertexai import agent_engines as _agent_engines\n",
    "from google.cloud import storage"
   ]
  },
  {
   "cell_type": "code",
   "execution_count": 2,
   "id": "486582ec-e886-4f5e-b9db-0c67b8429959",
   "metadata": {
    "tags": []
   },
   "outputs": [],
   "source": [
    "def get_or_create_agent_engine(display_name: str) :\n",
    "    \"\"\"\n",
    "    Pobiera istniejący Agent Engine po nazwie wyświetlanej lub tworzy nowy, jeśli nie istnieje.\n",
    "    \"\"\"\n",
    "    # 1. Pobierz listę wszystkich istniejących silników w projekcie\n",
    "    all_engines = _agent_engines.list()\n",
    "    \n",
    "    # 2. Sprawdź, czy któryś z nich ma pasującą nazwę\n",
    "    for engine in all_engines:\n",
    "        if engine.display_name == display_name:\n",
    "            print(f\"INFO: Znaleziono i połączono z istniejącym Agent Engine: '{display_name}'\")\n",
    "            return engine\n",
    "            \n",
    "    # 3. Jeśli pętla się zakończyła i nic nie znaleziono, stwórz nowy silnik\n",
    "    print(f\"INFO: Nie znaleziono Agent Engine o nazwie '{display_name}'. Tworzenie nowego...\")\n",
    "    try:\n",
    "        new_engine = agent_engines.create(\n",
    "            display_name=display_name\n",
    "        )\n",
    "        print(f\"INFO: Pomyślnie utworzono nowy Agent Engine.\")\n",
    "        return new_engine\n",
    "    except Exception as e:\n",
    "        print(f\"KRYTYCZNY BŁĄD: Nie można utworzyć Agent Engine. Sprawdź konfigurację i uprawnienia. Błąd: {e}\")\n",
    "        exit()"
   ]
  },
  {
   "cell_type": "code",
   "execution_count": 3,
   "id": "4f76690e-adcd-4b39-8393-c20de05339d2",
   "metadata": {
    "tags": []
   },
   "outputs": [],
   "source": [
    "MEMORY_ENGINE_DISPLAY_NAME=\"test_for_moa_debate\""
   ]
  },
  {
   "cell_type": "code",
   "execution_count": 4,
   "id": "47aa662a-91d6-456e-9160-3f7b7a6f83f9",
   "metadata": {
    "tags": []
   },
   "outputs": [
    {
     "name": "stdout",
     "output_type": "stream",
     "text": [
      "INFO: Znaleziono i połączono z istniejącym Agent Engine: 'test_for_moa_debate'\n",
      "projects/815755318672/locations/us-central1/reasoningEngines/6370486808450433024\n"
     ]
    }
   ],
   "source": [
    "agent_engine =get_or_create_agent_engine(MEMORY_ENGINE_DISPLAY_NAME)\n",
    "AGENT_ENGINE_NAME = agent_engine.resource_name\n",
    "print(AGENT_ENGINE_NAME)"
   ]
  },
  {
   "cell_type": "code",
   "execution_count": 5,
   "id": "5e9f3384-371c-4076-88f6-d5563a7b32f5",
   "metadata": {
    "tags": []
   },
   "outputs": [],
   "source": [
    "from vertexai import Client  # przygotuj klienta wcześniej\n",
    "client = Client(project=\"dark-data-discovery\", location=\"us-central1\")\n",
    "from persist_missions_memory import persist_missions_to_vertex_memory"
   ]
  },
  {
   "cell_type": "code",
   "execution_count": 6,
   "id": "6290d7c9-fd81-4f38-9e8d-f56a04ff0126",
   "metadata": {
    "tags": []
   },
   "outputs": [],
   "source": [
    "from persist_missions_memory_semantic_incremental import run_persistent_memory_ingestion"
   ]
  },
  {
   "cell_type": "code",
   "execution_count": 7,
   "id": "8afe30dd-6668-4c56-9e10-6fa1248b3f91",
   "metadata": {
    "tags": []
   },
   "outputs": [],
   "source": [
    "# --- 1. KONFIGURACJA ---\n",
    "# Uzupełnij poniższe zmienne. Muszą być identyczne jak w skrypcie do odczytu.\n",
    "PROJECT_ID = \"dark-data-discovery\"\n",
    "LOCATION = \"us-central1\"\n",
    "GCS_BUCKET = \"memory_rag_for_agents\" # Nazwa Twojego bucketa w Cloud Storage\n",
    "\n",
    "# WAŻNE: Wklej PEŁNĄ NAZWĘ ZASOBU (Resource Name) swojego silnika agenta.\n",
    "ENGINE_NAME = \"projects/815755318672/locations/us-central1/reasoningEngines/6370486808450433024\"\n",
    "\n",
    "# Ścieżka do pliku JSON z danymi do wczytania\n",
    "JSON_SOURCE_FILE = 'memory/learned_strategies.json'"
   ]
  },
  {
   "cell_type": "code",
   "execution_count": 9,
   "id": "63717240-25ce-436c-801d-25ae7756cc0e",
   "metadata": {},
   "outputs": [
    {
     "name": "stdout",
     "output_type": "stream",
     "text": [
      "✅ Klienci Google Cloud zainicjalizowani pomyślnie.\n",
      "--- 🏁 Rozpoczynam proces zapisu pamięci ---\n",
      "➡️  Silnik agenta: projects/815755318672/locations/us-central1/reasoningEngines/6370486808450433024\n",
      "➡️  Bucket GCS: memory_rag_for_agents\n",
      "\n",
      "--- Przetwarzam rekord 1/3 | Misja: mission_20250823_215948_92ed8ebc ---\n",
      "  ✅ [GCS] Zapisano obiekt: gs://memory_rag_for_agents/agent-memory-artifacts/mission_20250823_215948_92ed8ebc/d070a477f81b3401117a3fc3f409bdf4/final_plan.json\n"
     ]
    },
    {
     "name": "stderr",
     "output_type": "stream",
     "text": [
      "/home/jupyter/olga_zydziak/version_beta/advanced_agents_system/persist_missions_memory_semantic_incremental.py:57: ExperimentalWarning: The Vertex SDK GenAI agent engines module is experimental, and may change in future versions.\n",
      "  vertex_client.agent_engines.create_memory(name=engine_name, fact=fact_json, scope=scope)\n"
     ]
    },
    {
     "name": "stdout",
     "output_type": "stream",
     "text": [
      "    ✅ [Vertex AI] Zapisano fakt 'mission_overview' (widok: overview)\n",
      "\n",
      "--- Przetwarzam rekord 2/3 | Misja: mission_20250825_130540_a5cf18ab ---\n",
      "  ✅ [GCS] Zapisano obiekt: gs://memory_rag_for_agents/agent-memory-artifacts/mission_20250825_130540_a5cf18ab/3d8be7f520a20960021c21d9509caedc/final_plan.json\n",
      "    ✅ [Vertex AI] Zapisano fakt 'mission_overview' (widok: overview)\n",
      "\n",
      "--- Przetwarzam rekord 3/3 | Misja: mission_20250825_132101_a5cf18ab ---\n",
      "  ✅ [GCS] Zapisano obiekt: gs://memory_rag_for_agents/agent-memory-artifacts/mission_20250825_132101_a5cf18ab/6235fcace75c9874744d8b4f54808341/final_plan.json\n",
      "    ✅ [Vertex AI] Zapisano fakt 'mission_overview' (widok: overview)\n",
      "\n",
      "--- ✅ Proces zapisu zakończony ---\n",
      "📊 Statystyki: Przetworzono 3, Sukces 3, Porażki 0\n"
     ]
    }
   ],
   "source": [
    "from vertexai import Client  # przygotuj klienta wcześniej\n",
    "client = Client(project=\"dark-data-discovery\", location=\"us-central1\")\n",
    "\n",
    "\n",
    "gcs_client = storage.Client(project=PROJECT_ID)\n",
    "\n",
    "print(\"✅ Klienci Google Cloud zainicjalizowani pomyślnie.\")\n",
    "\n",
    "try:\n",
    "    # Uruchomienie głównej funkcji\n",
    "    run_persistent_memory_ingestion(\n",
    "        json_path=JSON_SOURCE_FILE,\n",
    "        engine_name=ENGINE_NAME,\n",
    "        vertex_client=client,\n",
    "        gcs_client=gcs_client,\n",
    "        gcs_bucket=GCS_BUCKET\n",
    "    )\n",
    "except Exception as e:\n",
    "    print(f\"\\n❌ BŁĄD KRYTYCZNY PRZED URUCHOMIENIEM: Sprawdź konfigurację (PROJECT_ID, LOCATION, GCS_BUCKET, ENGINE_NAME) i uwierzytelnienie.\")\n",
    "    print(f\"   Szczegóły błędu: {e}\")"
   ]
  },
  {
   "cell_type": "code",
   "execution_count": null,
   "id": "c8142235-d4d3-49c4-8a26-8c50364aaba5",
   "metadata": {},
   "outputs": [],
   "source": []
  }
 ],
 "metadata": {
  "environment": {
   "kernel": "agents_with_memory_p11",
   "name": "workbench-notebooks.m129",
   "type": "gcloud",
   "uri": "us-docker.pkg.dev/deeplearning-platform-release/gcr.io/workbench-notebooks:m129"
  },
  "kernelspec": {
   "display_name": "Agents with memory (Python 3.11)",
   "language": "python",
   "name": "agents_with_memory_p11"
  },
  "language_info": {
   "codemirror_mode": {
    "name": "ipython",
    "version": 3
   },
   "file_extension": ".py",
   "mimetype": "text/x-python",
   "name": "python",
   "nbconvert_exporter": "python",
   "pygments_lexer": "ipython3",
   "version": "3.11.13"
  }
 },
 "nbformat": 4,
 "nbformat_minor": 5
}
