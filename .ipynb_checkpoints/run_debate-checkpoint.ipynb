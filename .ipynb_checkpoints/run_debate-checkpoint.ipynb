{
 "cells": [
  {
   "cell_type": "code",
   "execution_count": 1,
   "id": "1b2638cc-786c-4d4e-b131-50049d2098eb",
   "metadata": {
    "tags": []
   },
   "outputs": [
    {
     "ename": "IndentationError",
     "evalue": "unindent does not match any outer indentation level (explainability_layer.py, line 151)",
     "output_type": "error",
     "traceback": [
      "Traceback \u001b[36m(most recent call last)\u001b[39m:\n",
      "  File \u001b[92m/opt/conda/envs/agents_with_memory_py11/lib/python3.11/site-packages/IPython/core/interactiveshell.py:3699\u001b[39m in \u001b[95mrun_code\u001b[39m\n    exec(code_obj, self.user_global_ns, self.user_ns)\n",
      "  Cell \u001b[92mIn[1]\u001b[39m\u001b[92m, line 1\u001b[39m\n    from autogen_orchestrator import AutoGenMOAOrchestrator\n",
      "\u001b[36m  \u001b[39m\u001b[36mFile \u001b[39m\u001b[32m~/olga_zydziak/version_beta/Untitled Folder/advanced_agents_system/autogen_orchestrator.py:24\u001b[39m\n\u001b[31m    \u001b[39m\u001b[31mfrom explainability_layer import EXPLAINABILITY\u001b[39m\n",
      "  \u001b[36mFile \u001b[39m\u001b[32m~/olga_zydziak/version_beta/Untitled Folder/advanced_agents_system/explainability_layer.py:151\u001b[39m\n\u001b[31m    \u001b[39m\u001b[31mdef __init__(self):\u001b[39m\n                       ^\n\u001b[31mIndentationError\u001b[39m\u001b[31m:\u001b[39m unindent does not match any outer indentation level\n"
     ]
    }
   ],
   "source": [
    "from autogen_orchestrator import AutoGenMOAOrchestrator\n",
    "import config_api\n",
    "\n",
    "\n",
    "import vertexai\n",
    "vertexai.init(project=\"dark-data-discovery\", location=\"us-central1\")\n",
    "\n",
    "# Biblioteka węzłów używana do generowania planów\n",
    "NODE_LIBRARY = {\n",
    "    'load_data': {'description': 'Wczytuje dane z różnych źródeł'},\n",
    "    'clean_data': {'description': 'Czyści dane'},\n",
    "    'validate_data': {'description': 'Waliduje dane'},\n",
    "    'discover_causality': {'description': 'Odkrywa relacje przyczynowe (może zawieść)'},\n",
    "    'error_handler': {'description': 'Obsługuje błędy'},\n",
    "    'rollback': {'description': 'Cofa zmiany'},\n",
    "    'generate_report': {'description': 'Generuje raport'},\n",
    "    'validate_model': {'description': 'Waliduje model'},\n",
    "    'optimize_performance': {'description': 'Optymalizuje wydajność'},\n",
    "    'train_model': {'description': 'Uczy model'},\n",
    "    'notify_user': {'description': 'Powiadamia użytkownika'}\n",
    "}\n",
    "\n",
    "# Możesz podać misję na stałe albo poprosić użytkownika o wpisanie\n",
    "mission = input(\"Podaj opis misji: \").strip()\n",
    "if not mission:\n",
    "    mission = \"Stwórz prosty pipeline do analizy danych CSV\"\n",
    "\n",
    "# Inicjalizacja orchestratora z definicją misji i ścieżką do konfiguracji agentów\n",
    "orchestrator = AutoGenMOAOrchestrator(\n",
    "    mission=mission,\n",
    "    node_library=NODE_LIBRARY,\n",
    "    config_file=\"agents_config.json\"\n",
    ")\n",
    "\n",
    "# Uruchom pełną debatę; wynik to słownik z finalnym planem lub None\n",
    "final_plan = orchestrator.run_full_debate_cycle()\n",
    "\n",
    "# Wyświetl wynik w czytelnej formie\n",
    "if final_plan:\n",
    "    import json\n",
    "    print(\"\\n✅ Zatwierdzony plan:\")\n",
    "    print(json.dumps(final_plan, indent=2, ensure_ascii=False))\n",
    "else:\n",
    "    print(\"\\n❌ Nie udało się uzyskać zatwierdzonego planu.\")"
   ]
  },
  {
   "cell_type": "code",
   "execution_count": null,
   "id": "2332ca99-4621-488b-b4ce-cbbe516d3523",
   "metadata": {},
   "outputs": [],
   "source": []
  }
 ],
 "metadata": {
  "environment": {
   "kernel": "agents_with_memory_p11",
   "name": "workbench-notebooks.m129",
   "type": "gcloud",
   "uri": "us-docker.pkg.dev/deeplearning-platform-release/gcr.io/workbench-notebooks:m129"
  },
  "kernelspec": {
   "display_name": "Agents with memory (Python 3.11)",
   "language": "python",
   "name": "agents_with_memory_p11"
  },
  "language_info": {
   "codemirror_mode": {
    "name": "ipython",
    "version": 3
   },
   "file_extension": ".py",
   "mimetype": "text/x-python",
   "name": "python",
   "nbconvert_exporter": "python",
   "pygments_lexer": "ipython3",
   "version": "3.11.13"
  }
 },
 "nbformat": 4,
 "nbformat_minor": 5
}
