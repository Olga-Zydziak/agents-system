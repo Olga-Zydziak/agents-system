{
 "cells": [
  {
   "cell_type": "code",
   "execution_count": 1,
   "id": "c75b454a-3bcc-494e-b2ec-6f5a9d132623",
   "metadata": {
    "tags": []
   },
   "outputs": [],
   "source": [
    "# pip install google-cloud-discoveryengine google-cloud-storage\n",
    "\n",
    "from typing import List, Dict, Any\n",
    "from google.cloud import discoveryengine_v1 as de\n",
    "from google.api_core.client_options import ClientOptions\n",
    "from google.cloud import storage\n",
    "\n",
    "def search_and_fetch_txt(\n",
    "    serving_config_path: str,   # np. \"projects/<PID>/locations/us/collections/default_collection/dataStores/<DS_ID>/servingConfigs/default_config\"\n",
    "    location: str = \"us\",       # MUSI odpowiadać lokalizacji DS/Engine (\"us\" lub \"global\")\n",
    "    query: str = \"\",\n",
    "    top_k: int = 3,\n",
    "    head_chars: int = 600       # ile znaków z .txt pobrać (dla podglądu)\n",
    ") -> List[Dict[str, Any]]:\n",
    "    \"\"\"\n",
    "    Standard edition:\n",
    "      - szuka po 'serving_config_path',\n",
    "      - zwraca listę hitów + od razu pobiera treść .txt z GCS (pierwsze head_chars znaków).\n",
    "    Wymaga, aby NDJSON miał: structData.links.txt_uri / plan_uri / transcript_uri / metrics_uri.\n",
    "    \"\"\"\n",
    "    # klient w regionie\n",
    "    client = de.SearchServiceClient(\n",
    "        client_options=ClientOptions(api_endpoint=f\"{location}-discoveryengine.googleapis.com\")\n",
    "    )\n",
    "    req = de.SearchRequest(\n",
    "        serving_config=serving_config_path,\n",
    "        query=query,\n",
    "        page_size=top_k,\n",
    "        # bez enterprise-only ficzerów; snippet_spec może działać, ale nie wymagamy\n",
    "    )\n",
    "\n",
    "    storage_client = storage.Client()\n",
    "    results: List[Dict[str, Any]] = []\n",
    "\n",
    "    for r in client.search(request=req):\n",
    "        doc = r.document\n",
    "        sdata = doc.struct_data or {}\n",
    "        links = sdata.get(\"links\", {}) or {}\n",
    "\n",
    "        txt_uri = links.get(\"txt_uri\")\n",
    "        txt_preview = \"\"\n",
    "        if txt_uri and txt_uri.startswith(\"gs://\"):\n",
    "            bkt, _, path = txt_uri[5:].partition(\"/\")\n",
    "            blob = storage_client.bucket(bkt).blob(path)\n",
    "            # pobierz max head_chars (jeśli plik duży)\n",
    "            data = blob.download_as_text(encoding=\"utf-8\")\n",
    "            txt_preview = data[:head_chars] + (\"…\" if len(data) > head_chars else \"\")\n",
    "\n",
    "        results.append({\n",
    "            \"id\": r.id or getattr(doc, \"id\", None),\n",
    "            \"txt_uri\": txt_uri,\n",
    "            \"txt_preview\": txt_preview,                 # ← podgląd treści\n",
    "            \"plan_uri\": links.get(\"plan_uri\"),\n",
    "            \"transcript_uri\": links.get(\"transcript_uri\"),\n",
    "            \"metrics_uri\": links.get(\"metrics_uri\"),\n",
    "            \"structData\": sdata,                        # pełne Twoje metadane (np. tags, approved, itp.)\n",
    "        })\n",
    "    return results\n"
   ]
  },
  {
   "cell_type": "code",
   "execution_count": 2,
   "id": "76d93554-ef4a-4cfb-8d1d-8a1c34083ba6",
   "metadata": {
    "tags": []
   },
   "outputs": [],
   "source": [
    "SERVING_CONFIG = \"projects/815755318672/locations/us/collections/default_collection/dataStores/external-memory-connector_1756845276280_gcs_store/servingConfigs/default_config\"\n",
    "\n",
    "\n",
    "hits = search_and_fetch_txt(\n",
    "    serving_config_path=SERVING_CONFIG,\n",
    "    location=\"us\",\n",
    "    query=\"retry i rollback w odkrywaniu przyczynowości\",\n",
    "    top_k=3,\n",
    "    head_chars=600,\n",
    ")\n",
    "for h in hits:\n",
    "    print(\"ID:\", h[\"id\"])\n",
    "    print(\"TXT URI:\", h[\"txt_uri\"])\n",
    "    print(\"PREVIEW:\\n\", h[\"txt_preview\"])\n",
    "    print(\"PLAN:\", h[\"plan_uri\"])\n",
    "    print(\"---\")\n"
   ]
  },
  {
   "cell_type": "code",
   "execution_count": null,
   "id": "8cbb5444-6151-4c25-bd1e-2216a99ae078",
   "metadata": {},
   "outputs": [],
   "source": []
  }
 ],
 "metadata": {
  "environment": {
   "kernel": "agents_with_memory_p11",
   "name": "workbench-notebooks.m129",
   "type": "gcloud",
   "uri": "us-docker.pkg.dev/deeplearning-platform-release/gcr.io/workbench-notebooks:m129"
  },
  "kernelspec": {
   "display_name": "Agents with memory (Python 3.11)",
   "language": "python",
   "name": "agents_with_memory_p11"
  },
  "language_info": {
   "codemirror_mode": {
    "name": "ipython",
    "version": 3
   },
   "file_extension": ".py",
   "mimetype": "text/x-python",
   "name": "python",
   "nbconvert_exporter": "python",
   "pygments_lexer": "ipython3",
   "version": "3.11.13"
  }
 },
 "nbformat": 4,
 "nbformat_minor": 5
}
