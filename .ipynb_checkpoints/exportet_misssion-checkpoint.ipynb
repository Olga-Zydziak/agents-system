{
 "cells": [
  {
   "cell_type": "code",
   "execution_count": 3,
   "id": "02407021-8edc-46f8-9233-1de31fd9a9f3",
   "metadata": {
    "tags": []
   },
   "outputs": [
    {
     "name": "stdout",
     "output_type": "stream",
     "text": [
      "OK. Artefakty w: /home/jupyter/olga_zydziak/version_beta/Untitled Folder/advanced_agents_system/out\n",
      "NDJSON: /home/jupyter/olga_zydziak/version_beta/Untitled Folder/advanced_agents_system/out/metadata.ndjson\n"
     ]
    }
   ],
   "source": [
    "from exporter_missions_lib import export_missions\n",
    "\n",
    "export_missions(\n",
    "    input_dir=\"memory/missions\",      # Twój katalog z oryginalnymi JSON-ami\n",
    "    out_dir=\"./out\",             # Gdzie mają trafić nowe pliki\n",
    "    gcs_prefix=\"gs://debate_rag/missions\",  # Prefix GCS\n",
    "    ndjson_out=\"metadata.ndjson\" # nazwa pliku metadanych\n",
    ")"
   ]
  },
  {
   "cell_type": "code",
   "execution_count": 1,
   "id": "8bdccd9d-2772-447d-830c-d7707c7f2639",
   "metadata": {
    "tags": []
   },
   "outputs": [
    {
     "ename": "FileNotFoundError",
     "evalue": "Brak plików .json pod: gs://debate_rag/missions/2025/09/02/",
     "output_type": "error",
     "traceback": [
      "\u001b[31m---------------------------------------------------------------------------\u001b[39m",
      "\u001b[31mFileNotFoundError\u001b[39m                         Traceback (most recent call last)",
      "\u001b[36mCell\u001b[39m\u001b[36m \u001b[39m\u001b[32mIn[1]\u001b[39m\u001b[32m, line 3\u001b[39m\n\u001b[32m      1\u001b[39m \u001b[38;5;28;01mfrom\u001b[39;00m\u001b[38;5;250m \u001b[39m\u001b[34;01mexporter_missions_gcs\u001b[39;00m\u001b[38;5;250m \u001b[39m\u001b[38;5;28;01mimport\u001b[39;00m export_today_from_root\n\u001b[32m----> \u001b[39m\u001b[32m3\u001b[39m ndjson_uri = \u001b[43mexport_today_from_root\u001b[49m\u001b[43m(\u001b[49m\n\u001b[32m      4\u001b[39m \u001b[43m    \u001b[49m\u001b[43mroot_gcs\u001b[49m\u001b[43m=\u001b[49m\u001b[33;43m\"\u001b[39;49m\u001b[33;43mgs://debate_rag/missions\u001b[39;49m\u001b[33;43m\"\u001b[39;49m\u001b[43m,\u001b[49m\n\u001b[32m      5\u001b[39m \u001b[43m    \u001b[49m\u001b[43muse_snapshot_date_for_path\u001b[49m\u001b[43m=\u001b[49m\u001b[38;5;28;43;01mFalse\u001b[39;49;00m\u001b[43m,\u001b[49m\u001b[43m     \u001b[49m\u001b[38;5;66;43;03m# zapis wg DZIŚ (PL) do missions/MM/DD\u001b[39;49;00m\n\u001b[32m      6\u001b[39m \u001b[43m    \u001b[49m\u001b[43minclude_year_in_input\u001b[49m\u001b[43m=\u001b[49m\u001b[38;5;28;43;01mTrue\u001b[39;49;00m\u001b[43m,\u001b[49m\u001b[43m           \u001b[49m\u001b[38;5;66;43;03m# Twoje oryginały siedzą pod YYYY/MM/DD\u001b[39;49;00m\n\u001b[32m      7\u001b[39m \u001b[43m    \u001b[49m\u001b[43minclude_year_in_output\u001b[49m\u001b[43m=\u001b[49m\u001b[38;5;28;43;01mFalse\u001b[39;49;00m\u001b[43m          \u001b[49m\u001b[38;5;66;43;03m# chcesz MM/DD bez roku\u001b[39;49;00m\n\u001b[32m      8\u001b[39m \u001b[43m)\u001b[49m\n\u001b[32m      9\u001b[39m \u001b[38;5;28mprint\u001b[39m(\u001b[33m\"\u001b[39m\u001b[33mNDJSON:\u001b[39m\u001b[33m\"\u001b[39m, ndjson_uri)\n",
      "\u001b[36mFile \u001b[39m\u001b[32m~/olga_zydziak/version_beta/Untitled Folder/advanced_agents_system/exporter_missions_gcs.py:266\u001b[39m, in \u001b[36mexport_today_from_root\u001b[39m\u001b[34m(root_gcs, ndjson_name, use_snapshot_date_for_path, include_year_in_input, include_year_in_output)\u001b[39m\n\u001b[32m    261\u001b[39m     ndjson_per_outdir.setdefault(out_dir, []).append(\n\u001b[32m    262\u001b[39m         _ndjson_line(base_name, txt_uri, plan_uri, transcript_uri, metrics_uri, metrics)\n\u001b[32m    263\u001b[39m     )\n\u001b[32m    265\u001b[39m \u001b[38;5;28;01mif\u001b[39;00m \u001b[38;5;129;01mnot\u001b[39;00m any_json:\n\u001b[32m--> \u001b[39m\u001b[32m266\u001b[39m     \u001b[38;5;28;01mraise\u001b[39;00m \u001b[38;5;167;01mFileNotFoundError\u001b[39;00m(\u001b[33mf\u001b[39m\u001b[33m\"\u001b[39m\u001b[33mBrak plików .json pod: gs://\u001b[39m\u001b[38;5;132;01m{\u001b[39;00mbucket_name\u001b[38;5;132;01m}\u001b[39;00m\u001b[33m/\u001b[39m\u001b[38;5;132;01m{\u001b[39;00min_prefix\u001b[38;5;132;01m}\u001b[39;00m\u001b[33m\"\u001b[39m)\n\u001b[32m    268\u001b[39m \u001b[38;5;66;03m# Zapis NDJSON per folder\u001b[39;00m\n\u001b[32m    269\u001b[39m ndjson_uris: \u001b[38;5;28mlist\u001b[39m[\u001b[38;5;28mstr\u001b[39m] = []\n",
      "\u001b[31mFileNotFoundError\u001b[39m: Brak plików .json pod: gs://debate_rag/missions/2025/09/02/"
     ]
    }
   ],
   "source": [
    "from exporter_missions_gcs import export_local_by_filename_date\n",
    "\n",
    "ndjson_uris = export_local_by_filename_date(\n",
    "    input_dir=\"memory/missions\",          # tu leżą Twoje mission_YYYYMMDD_HHMMSS_*.json\n",
    "    output_root_gcs=\"gs://debate_rag/missions\",\n",
    "    pattern=\"*.json\"                      # domyślnie *.json\n",
    ")\n",
    "print(ndjson_uris)"
   ]
  },
  {
   "cell_type": "code",
   "execution_count": null,
   "id": "a0512696-6c0e-490c-8b51-6e98d236460d",
   "metadata": {},
   "outputs": [],
   "source": []
  }
 ],
 "metadata": {
  "environment": {
   "kernel": "agents_with_memory_p11",
   "name": "workbench-notebooks.m129",
   "type": "gcloud",
   "uri": "us-docker.pkg.dev/deeplearning-platform-release/gcr.io/workbench-notebooks:m129"
  },
  "kernelspec": {
   "display_name": "Agents with memory (Python 3.11)",
   "language": "python",
   "name": "agents_with_memory_p11"
  },
  "language_info": {
   "codemirror_mode": {
    "name": "ipython",
    "version": 3
   },
   "file_extension": ".py",
   "mimetype": "text/x-python",
   "name": "python",
   "nbconvert_exporter": "python",
   "pygments_lexer": "ipython3",
   "version": "3.11.13"
  }
 },
 "nbformat": 4,
 "nbformat_minor": 5
}
