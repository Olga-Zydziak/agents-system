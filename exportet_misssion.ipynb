{
 "cells": [
  {
   "cell_type": "code",
   "execution_count": 2,
   "id": "02407021-8edc-46f8-9233-1de31fd9a9f3",
   "metadata": {
    "tags": []
   },
   "outputs": [
    {
     "ename": "ImportError",
     "evalue": "cannot import name 'export_local_by_filename_date_split' from 'exporter_missions_gcs' (/home/jupyter/olga_zydziak/version_beta/Folder/advanced_agents_system/exporter_missions_gcs.py)",
     "output_type": "error",
     "traceback": [
      "\u001b[31m---------------------------------------------------------------------------\u001b[39m",
      "\u001b[31mImportError\u001b[39m                               Traceback (most recent call last)",
      "\u001b[36mCell\u001b[39m\u001b[36m \u001b[39m\u001b[32mIn[2]\u001b[39m\u001b[32m, line 1\u001b[39m\n\u001b[32m----> \u001b[39m\u001b[32m1\u001b[39m \u001b[38;5;28;01mfrom\u001b[39;00m\u001b[38;5;250m \u001b[39m\u001b[34;01mexporter_missions_gcs\u001b[39;00m\u001b[38;5;250m \u001b[39m\u001b[38;5;28;01mimport\u001b[39;00m export_local_by_filename_date_split\n\u001b[32m      3\u001b[39m ndjson_uris = export_local_by_filename_date_split(\n\u001b[32m      4\u001b[39m     input_dir=\u001b[33m\"\u001b[39m\u001b[33mmemory/missions\u001b[39m\u001b[33m\"\u001b[39m,                          \u001b[38;5;66;03m# lokalne mission_YYYYMMDD_HHMMSS_*.json\u001b[39;00m\n\u001b[32m      5\u001b[39m     output_missions_root_gcs=\u001b[33m\"\u001b[39m\u001b[33mgs://external_memory/missions\u001b[39m\u001b[33m\"\u001b[39m, \u001b[38;5;66;03m# artefakty TXT/JSON\u001b[39;00m\n\u001b[32m      6\u001b[39m     output_index_root_gcs=\u001b[33m\"\u001b[39m\u001b[33mgs://external_memory/index\u001b[39m\u001b[33m\"\u001b[39m,  \u001b[38;5;66;03m# tylko NDJSON\u001b[39;00m\n\u001b[32m      7\u001b[39m     pattern=\u001b[33m\"\u001b[39m\u001b[33m*.json\u001b[39m\u001b[33m\"\u001b[39m\n\u001b[32m      8\u001b[39m )\n\u001b[32m      9\u001b[39m \u001b[38;5;28mprint\u001b[39m(ndjson_uris)\n",
      "\u001b[31mImportError\u001b[39m: cannot import name 'export_local_by_filename_date_split' from 'exporter_missions_gcs' (/home/jupyter/olga_zydziak/version_beta/Folder/advanced_agents_system/exporter_missions_gcs.py)"
     ]
    }
   ],
   "source": [
    "from exporter_missions_gcs import export_local_by_filename_date_split\n",
    "\n",
    "ndjson_uris = export_local_by_filename_date_split(\n",
    "    input_dir=\"memory/missions\",                          # lokalne mission_YYYYMMDD_HHMMSS_*.json\n",
    "    output_missions_root_gcs=\"gs://external_memory/missions\", # artefakty TXT/JSON\n",
    "    output_index_root_gcs=\"gs://external_memory/index\",  # tylko NDJSON\n",
    "    pattern=\"*.json\"\n",
    ")\n",
    "print(ndjson_uris)"
   ]
  },
  {
   "cell_type": "code",
   "execution_count": 1,
   "id": "8bdccd9d-2772-447d-830c-d7707c7f2639",
   "metadata": {
    "tags": []
   },
   "outputs": [
    {
     "ename": "ImportError",
     "evalue": "cannot import name 'export_local_by_filename_date' from 'exporter_missions_gcs' (/home/jupyter/olga_zydziak/version_beta/Folder/advanced_agents_system/exporter_missions_gcs.py)",
     "output_type": "error",
     "traceback": [
      "\u001b[31m---------------------------------------------------------------------------\u001b[39m",
      "\u001b[31mImportError\u001b[39m                               Traceback (most recent call last)",
      "\u001b[36mCell\u001b[39m\u001b[36m \u001b[39m\u001b[32mIn[1]\u001b[39m\u001b[32m, line 1\u001b[39m\n\u001b[32m----> \u001b[39m\u001b[32m1\u001b[39m \u001b[38;5;28;01mfrom\u001b[39;00m\u001b[38;5;250m \u001b[39m\u001b[34;01mexporter_missions_gcs\u001b[39;00m\u001b[38;5;250m \u001b[39m\u001b[38;5;28;01mimport\u001b[39;00m export_local_by_filename_date\n\u001b[32m      3\u001b[39m ndjson_uris = export_local_by_filename_date(\n\u001b[32m      4\u001b[39m     input_dir=\u001b[33m\"\u001b[39m\u001b[33mmemory/missions\u001b[39m\u001b[33m\"\u001b[39m,          \u001b[38;5;66;03m# tu leżą Twoje mission_YYYYMMDD_HHMMSS_*.json\u001b[39;00m\n\u001b[32m      5\u001b[39m     output_root_gcs=\u001b[33m\"\u001b[39m\u001b[33mgs://external_memory/missions\u001b[39m\u001b[33m\"\u001b[39m,\n\u001b[32m      6\u001b[39m     pattern=\u001b[33m\"\u001b[39m\u001b[33m*.json\u001b[39m\u001b[33m\"\u001b[39m                      \u001b[38;5;66;03m# domyślnie *.json\u001b[39;00m\n\u001b[32m      7\u001b[39m )\n\u001b[32m      8\u001b[39m \u001b[38;5;28mprint\u001b[39m(ndjson_uris)\n",
      "\u001b[31mImportError\u001b[39m: cannot import name 'export_local_by_filename_date' from 'exporter_missions_gcs' (/home/jupyter/olga_zydziak/version_beta/Folder/advanced_agents_system/exporter_missions_gcs.py)"
     ]
    }
   ],
   "source": [
    "from exporter_missions_gcs import export_local_by_filename_date\n",
    "\n",
    "ndjson_uris = export_local_by_filename_date(\n",
    "    input_dir=\"memory/missions\",          # tu leżą Twoje mission_YYYYMMDD_HHMMSS_*.json\n",
    "    output_root_gcs=\"gs://external_memory/missions\",\n",
    "    pattern=\"*.json\"                      # domyślnie *.json\n",
    ")\n",
    "print(ndjson_uris)"
   ]
  },
  {
   "cell_type": "code",
   "execution_count": 3,
   "id": "a0512696-6c0e-490c-8b51-6e98d236460d",
   "metadata": {
    "tags": []
   },
   "outputs": [
    {
     "name": "stdout",
     "output_type": "stream",
     "text": [
      "Bad local files: 0\n"
     ]
    }
   ],
   "source": [
    "from pathlib import Path, PurePath\n",
    "import json\n",
    "\n",
    "def sniff_local_jsons(folder=\"memory/missions\", pattern=\"*.json\", limit=50):\n",
    "    bad = []\n",
    "    for p in sorted(Path(folder).glob(pattern))[:limit]:\n",
    "        try:\n",
    "            json.loads(p.read_text(encoding=\"utf-8\"))\n",
    "        except Exception as e:\n",
    "            bad.append((str(p), repr(e)))\n",
    "    print(f\"Bad local files: {len(bad)}\")\n",
    "    for name, err in bad[:20]:\n",
    "        print(\"-\", name, \"->\", err)\n",
    "    return bad\n",
    "\n",
    "bad_local = sniff_local_jsons(\"memory/missions\")"
   ]
  },
  {
   "cell_type": "code",
   "execution_count": 4,
   "id": "662ac2e3-8b03-4afd-a655-e1d49cbb824a",
   "metadata": {
    "tags": []
   },
   "outputs": [],
   "source": [
    "from google.cloud import storage\n",
    "import json\n",
    "\n",
    "def sniff_ndjson(gs_uri):\n",
    "    assert gs_uri.startswith(\"gs://\")\n",
    "    bucket, _, prefix = gs_uri[5:].partition(\"/\")\n",
    "    client = storage.Client()\n",
    "    blob = client.bucket(bucket).blob(prefix)\n",
    "    data = blob.download_as_text(encoding=\"utf-8\").splitlines()\n",
    "    bad = []\n",
    "    for i, line in enumerate(data, 1):\n",
    "        if not line.strip():\n",
    "            continue\n",
    "        try:\n",
    "            json.loads(line)\n",
    "        except Exception as e:\n",
    "            bad.append((i, repr(e), line[:200]))\n",
    "    print(f\"Lines: {len(data)}, bad: {len(bad)}\")\n",
    "    for i, err, preview in bad[:10]:\n",
    "        print(f\"- line {i}: {err}\\n  {preview}...\")\n",
    "    return bad"
   ]
  },
  {
   "cell_type": "code",
   "execution_count": 6,
   "id": "a1001288-7246-4e16-91f2-433d643a783e",
   "metadata": {
    "tags": []
   },
   "outputs": [
    {
     "name": "stdout",
     "output_type": "stream",
     "text": [
      "Lines: 2, bad: 0\n"
     ]
    }
   ],
   "source": [
    "bad = sniff_ndjson(\"gs://external_memory/missions/2025/08/29/metadata_20250829.ndjson\")"
   ]
  },
  {
   "cell_type": "code",
   "execution_count": 9,
   "id": "41bb4155-fb97-433f-8404-e599f74415b1",
   "metadata": {
    "tags": []
   },
   "outputs": [
    {
     "name": "stdout",
     "output_type": "stream",
     "text": [
      "[]\n"
     ]
    }
   ],
   "source": [
    "from google.cloud import storage\n",
    "import json\n",
    "\n",
    "def validate_ndjson_links(gs_ndjson_uri: str, sample=50):\n",
    "    assert gs_ndjson_uri.startswith(\"gs://\")\n",
    "    bucket_name, _, path = gs_ndjson_uri[5:].partition(\"/\")\n",
    "    client = storage.Client()\n",
    "    blob = client.bucket(bucket_name).blob(path)\n",
    "    lines = blob.download_as_text(encoding=\"utf-8\").splitlines()\n",
    "    problems = []\n",
    "    checked = 0\n",
    "    for i, line in enumerate(lines, 1):\n",
    "        if not line.strip(): \n",
    "            continue\n",
    "        try:\n",
    "            obj = json.loads(line)\n",
    "        except Exception as e:\n",
    "            problems.append((\"json-parse\", i, repr(e)))\n",
    "            continue\n",
    "        uri = ((obj.get(\"content\") or {}).get(\"uri\")) if obj.get(\"content\") else None\n",
    "        if not uri or not uri.startswith(\"gs://\"):\n",
    "            problems.append((\"no-uri\", i, str(uri)))\n",
    "            continue\n",
    "        bkt, _, pfx = uri[5:].partition(\"/\")\n",
    "        b = client.bucket(bkt).blob(pfx)\n",
    "        if not b.exists():\n",
    "            problems.append((\"missing-content\", i, uri))\n",
    "        else:\n",
    "            # Sprawdź rozmiar i typ\n",
    "            b.reload()\n",
    "            if b.size == 0:\n",
    "                problems.append((\"empty-content\", i, uri))\n",
    "        checked += 1\n",
    "        if checked >= sample:\n",
    "            break\n",
    "    return problems\n",
    "\n",
    "\n",
    "problems = validate_ndjson_links(\"gs://external_memory/missions/2025/08/29/metadata_20250829.ndjson\", sample=200)\n",
    "print(problems)"
   ]
  },
  {
   "cell_type": "code",
   "execution_count": 18,
   "id": "07ceec8f-8373-4b1c-8631-27302d249a82",
   "metadata": {
    "tags": []
   },
   "outputs": [],
   "source": [
    "# pip install google-cloud-discoveryengine google-cloud-storage\n",
    "from google.cloud import discoveryengine_v1 as de\n",
    "from google.api_core.client_options import ClientOptions\n",
    "from google.cloud import storage\n",
    "import json\n",
    "\n",
    "def _read_txt_head_from_gcs(gs_uri: str, max_chars: int = 200) -> str:\n",
    "    if not gs_uri or not gs_uri.startswith(\"gs://\"):\n",
    "        return \"\"\n",
    "    bkt, _, path = gs_uri[5:].partition(\"/\")\n",
    "    blob = storage.Client().bucket(bkt).blob(path)\n",
    "    data = blob.download_as_text(encoding=\"utf-8\")\n",
    "    return (data[:max_chars] + \"…\") if len(data) > max_chars else data\n",
    "\n",
    "def vertex_search_with_snippets(serving_config_path: str, location: str, query: str, top_k: int = 3, filter_str: str = \"\"):\n",
    "    client = de.SearchServiceClient(client_options=ClientOptions(api_endpoint=f\"{location}-discoveryengine.googleapis.com\"))\n",
    "\n",
    "    req = de.SearchRequest(\n",
    "        serving_config=serving_config_path,\n",
    "        query=query,\n",
    "        page_size=top_k,\n",
    "        filter=filter_str,\n",
    "        content_search_spec=de.SearchRequest.ContentSearchSpec(\n",
    "            snippet_spec=de.SearchRequest.ContentSearchSpec.SnippetSpec(\n",
    "                return_snippet=True\n",
    "            )\n",
    "        ),\n",
    "    )\n",
    "\n",
    "    out = []\n",
    "    resp = client.search(request=req)\n",
    "    for r in resp:\n",
    "        doc = r.document\n",
    "        # 1) preferowane: r.snippet_info (lista wycinków)\n",
    "        snippet_texts = []\n",
    "        if getattr(r, \"snippet_info\", None):\n",
    "            for s in r.snippet_info:\n",
    "                if getattr(s, \"snippet\", None):\n",
    "                    snippet_texts.append(s.snippet)\n",
    "\n",
    "        # 2) fallback: próbuj derived_struct_data.contentSnippet (bywa puste)\n",
    "        if not snippet_texts and doc and getattr(doc, \"derived_struct_data\", None):\n",
    "            cs = doc.derived_struct_data.get(\"contentSnippet\")\n",
    "            if cs:\n",
    "                snippet_texts.append(cs)\n",
    "\n",
    "        # 3) ostateczny fallback: wczytaj początek .txt z GCS\n",
    "        txt_uri = (doc.content.uri if doc and doc.content and getattr(doc.content, \"uri\", None) else None)\n",
    "        if not snippet_texts and txt_uri:\n",
    "            snippet_texts.append(_read_txt_head_from_gcs(txt_uri, max_chars=200))\n",
    "\n",
    "        out.append({\n",
    "            \"id\": (doc.id if doc else \"\"),\n",
    "            \"snippet\": \" … \".join(snippet_texts) if snippet_texts else \"\",\n",
    "            \"txt_uri\": txt_uri,\n",
    "            \"links\": (doc.struct_data or {}).get(\"links\", {}) if doc else {},\n",
    "        })\n",
    "    return out\n"
   ]
  },
  {
   "cell_type": "code",
   "execution_count": null,
   "id": "3edbf99a-4304-48ad-a616-b4b8245e9052",
   "metadata": {},
   "outputs": [],
   "source": []
  },
  {
   "cell_type": "code",
   "execution_count": 19,
   "id": "b059499e-f949-445a-a809-55df15e848f4",
   "metadata": {
    "tags": []
   },
   "outputs": [
    {
     "ename": "InvalidArgument",
     "evalue": "400 Invalid filter syntax 'structData.approved = true'. Parsing filter failed with error: Unsupported field \"structData.approved\" on comparison operators. Comparison operators include \">\", \"<\", \">=\", \"<=\", \"=\"..",
     "output_type": "error",
     "traceback": [
      "\u001b[31m---------------------------------------------------------------------------\u001b[39m",
      "\u001b[31m_InactiveRpcError\u001b[39m                         Traceback (most recent call last)",
      "\u001b[36mFile \u001b[39m\u001b[32m/opt/conda/envs/agents_with_memory_py11/lib/python3.11/site-packages/google/api_core/grpc_helpers.py:76\u001b[39m, in \u001b[36m_wrap_unary_errors.<locals>.error_remapped_callable\u001b[39m\u001b[34m(*args, **kwargs)\u001b[39m\n\u001b[32m     75\u001b[39m \u001b[38;5;28;01mtry\u001b[39;00m:\n\u001b[32m---> \u001b[39m\u001b[32m76\u001b[39m     \u001b[38;5;28;01mreturn\u001b[39;00m \u001b[43mcallable_\u001b[49m\u001b[43m(\u001b[49m\u001b[43m*\u001b[49m\u001b[43margs\u001b[49m\u001b[43m,\u001b[49m\u001b[43m \u001b[49m\u001b[43m*\u001b[49m\u001b[43m*\u001b[49m\u001b[43mkwargs\u001b[49m\u001b[43m)\u001b[49m\n\u001b[32m     77\u001b[39m \u001b[38;5;28;01mexcept\u001b[39;00m grpc.RpcError \u001b[38;5;28;01mas\u001b[39;00m exc:\n",
      "\u001b[36mFile \u001b[39m\u001b[32m/opt/conda/envs/agents_with_memory_py11/lib/python3.11/site-packages/grpc/_interceptor.py:277\u001b[39m, in \u001b[36m_UnaryUnaryMultiCallable.__call__\u001b[39m\u001b[34m(self, request, timeout, metadata, credentials, wait_for_ready, compression)\u001b[39m\n\u001b[32m    268\u001b[39m \u001b[38;5;28;01mdef\u001b[39;00m\u001b[38;5;250m \u001b[39m\u001b[34m__call__\u001b[39m(\n\u001b[32m    269\u001b[39m     \u001b[38;5;28mself\u001b[39m,\n\u001b[32m    270\u001b[39m     request: Any,\n\u001b[32m   (...)\u001b[39m\u001b[32m    275\u001b[39m     compression: Optional[grpc.Compression] = \u001b[38;5;28;01mNone\u001b[39;00m,\n\u001b[32m    276\u001b[39m ) -> Any:\n\u001b[32m--> \u001b[39m\u001b[32m277\u001b[39m     response, ignored_call = \u001b[38;5;28;43mself\u001b[39;49m\u001b[43m.\u001b[49m\u001b[43m_with_call\u001b[49m\u001b[43m(\u001b[49m\n\u001b[32m    278\u001b[39m \u001b[43m        \u001b[49m\u001b[43mrequest\u001b[49m\u001b[43m,\u001b[49m\n\u001b[32m    279\u001b[39m \u001b[43m        \u001b[49m\u001b[43mtimeout\u001b[49m\u001b[43m=\u001b[49m\u001b[43mtimeout\u001b[49m\u001b[43m,\u001b[49m\n\u001b[32m    280\u001b[39m \u001b[43m        \u001b[49m\u001b[43mmetadata\u001b[49m\u001b[43m=\u001b[49m\u001b[43mmetadata\u001b[49m\u001b[43m,\u001b[49m\n\u001b[32m    281\u001b[39m \u001b[43m        \u001b[49m\u001b[43mcredentials\u001b[49m\u001b[43m=\u001b[49m\u001b[43mcredentials\u001b[49m\u001b[43m,\u001b[49m\n\u001b[32m    282\u001b[39m \u001b[43m        \u001b[49m\u001b[43mwait_for_ready\u001b[49m\u001b[43m=\u001b[49m\u001b[43mwait_for_ready\u001b[49m\u001b[43m,\u001b[49m\n\u001b[32m    283\u001b[39m \u001b[43m        \u001b[49m\u001b[43mcompression\u001b[49m\u001b[43m=\u001b[49m\u001b[43mcompression\u001b[49m\u001b[43m,\u001b[49m\n\u001b[32m    284\u001b[39m \u001b[43m    \u001b[49m\u001b[43m)\u001b[49m\n\u001b[32m    285\u001b[39m     \u001b[38;5;28;01mreturn\u001b[39;00m response\n",
      "\u001b[36mFile \u001b[39m\u001b[32m/opt/conda/envs/agents_with_memory_py11/lib/python3.11/site-packages/grpc/_interceptor.py:332\u001b[39m, in \u001b[36m_UnaryUnaryMultiCallable._with_call\u001b[39m\u001b[34m(self, request, timeout, metadata, credentials, wait_for_ready, compression)\u001b[39m\n\u001b[32m    329\u001b[39m call = \u001b[38;5;28mself\u001b[39m._interceptor.intercept_unary_unary(\n\u001b[32m    330\u001b[39m     continuation, client_call_details, request\n\u001b[32m    331\u001b[39m )\n\u001b[32m--> \u001b[39m\u001b[32m332\u001b[39m \u001b[38;5;28;01mreturn\u001b[39;00m \u001b[43mcall\u001b[49m\u001b[43m.\u001b[49m\u001b[43mresult\u001b[49m\u001b[43m(\u001b[49m\u001b[43m)\u001b[49m, call\n",
      "\u001b[36mFile \u001b[39m\u001b[32m/opt/conda/envs/agents_with_memory_py11/lib/python3.11/site-packages/grpc/_channel.py:440\u001b[39m, in \u001b[36m_InactiveRpcError.result\u001b[39m\u001b[34m(self, timeout)\u001b[39m\n\u001b[32m    439\u001b[39m \u001b[38;5;250m\u001b[39m\u001b[33;03m\"\"\"See grpc.Future.result.\"\"\"\u001b[39;00m\n\u001b[32m--> \u001b[39m\u001b[32m440\u001b[39m \u001b[38;5;28;01mraise\u001b[39;00m \u001b[38;5;28mself\u001b[39m\n",
      "\u001b[36mFile \u001b[39m\u001b[32m/opt/conda/envs/agents_with_memory_py11/lib/python3.11/site-packages/grpc/_interceptor.py:315\u001b[39m, in \u001b[36m_UnaryUnaryMultiCallable._with_call.<locals>.continuation\u001b[39m\u001b[34m(new_details, request)\u001b[39m\n\u001b[32m    314\u001b[39m \u001b[38;5;28;01mtry\u001b[39;00m:\n\u001b[32m--> \u001b[39m\u001b[32m315\u001b[39m     response, call = \u001b[38;5;28;43mself\u001b[39;49m\u001b[43m.\u001b[49m\u001b[43m_thunk\u001b[49m\u001b[43m(\u001b[49m\u001b[43mnew_method\u001b[49m\u001b[43m)\u001b[49m\u001b[43m.\u001b[49m\u001b[43mwith_call\u001b[49m\u001b[43m(\u001b[49m\n\u001b[32m    316\u001b[39m \u001b[43m        \u001b[49m\u001b[43mrequest\u001b[49m\u001b[43m,\u001b[49m\n\u001b[32m    317\u001b[39m \u001b[43m        \u001b[49m\u001b[43mtimeout\u001b[49m\u001b[43m=\u001b[49m\u001b[43mnew_timeout\u001b[49m\u001b[43m,\u001b[49m\n\u001b[32m    318\u001b[39m \u001b[43m        \u001b[49m\u001b[43mmetadata\u001b[49m\u001b[43m=\u001b[49m\u001b[43mnew_metadata\u001b[49m\u001b[43m,\u001b[49m\n\u001b[32m    319\u001b[39m \u001b[43m        \u001b[49m\u001b[43mcredentials\u001b[49m\u001b[43m=\u001b[49m\u001b[43mnew_credentials\u001b[49m\u001b[43m,\u001b[49m\n\u001b[32m    320\u001b[39m \u001b[43m        \u001b[49m\u001b[43mwait_for_ready\u001b[49m\u001b[43m=\u001b[49m\u001b[43mnew_wait_for_ready\u001b[49m\u001b[43m,\u001b[49m\n\u001b[32m    321\u001b[39m \u001b[43m        \u001b[49m\u001b[43mcompression\u001b[49m\u001b[43m=\u001b[49m\u001b[43mnew_compression\u001b[49m\u001b[43m,\u001b[49m\n\u001b[32m    322\u001b[39m \u001b[43m    \u001b[49m\u001b[43m)\u001b[49m\n\u001b[32m    323\u001b[39m     \u001b[38;5;28;01mreturn\u001b[39;00m _UnaryOutcome(response, call)\n",
      "\u001b[36mFile \u001b[39m\u001b[32m/opt/conda/envs/agents_with_memory_py11/lib/python3.11/site-packages/grpc/_channel.py:1198\u001b[39m, in \u001b[36m_UnaryUnaryMultiCallable.with_call\u001b[39m\u001b[34m(self, request, timeout, metadata, credentials, wait_for_ready, compression)\u001b[39m\n\u001b[32m   1192\u001b[39m (\n\u001b[32m   1193\u001b[39m     state,\n\u001b[32m   1194\u001b[39m     call,\n\u001b[32m   1195\u001b[39m ) = \u001b[38;5;28mself\u001b[39m._blocking(\n\u001b[32m   1196\u001b[39m     request, timeout, metadata, credentials, wait_for_ready, compression\n\u001b[32m   1197\u001b[39m )\n\u001b[32m-> \u001b[39m\u001b[32m1198\u001b[39m \u001b[38;5;28;01mreturn\u001b[39;00m \u001b[43m_end_unary_response_blocking\u001b[49m\u001b[43m(\u001b[49m\u001b[43mstate\u001b[49m\u001b[43m,\u001b[49m\u001b[43m \u001b[49m\u001b[43mcall\u001b[49m\u001b[43m,\u001b[49m\u001b[43m \u001b[49m\u001b[38;5;28;43;01mTrue\u001b[39;49;00m\u001b[43m,\u001b[49m\u001b[43m \u001b[49m\u001b[38;5;28;43;01mNone\u001b[39;49;00m\u001b[43m)\u001b[49m\n",
      "\u001b[36mFile \u001b[39m\u001b[32m/opt/conda/envs/agents_with_memory_py11/lib/python3.11/site-packages/grpc/_channel.py:1006\u001b[39m, in \u001b[36m_end_unary_response_blocking\u001b[39m\u001b[34m(state, call, with_call, deadline)\u001b[39m\n\u001b[32m   1005\u001b[39m \u001b[38;5;28;01melse\u001b[39;00m:\n\u001b[32m-> \u001b[39m\u001b[32m1006\u001b[39m     \u001b[38;5;28;01mraise\u001b[39;00m _InactiveRpcError(state)\n",
      "\u001b[31m_InactiveRpcError\u001b[39m: <_InactiveRpcError of RPC that terminated with:\n\tstatus = StatusCode.INVALID_ARGUMENT\n\tdetails = \"Invalid filter syntax 'structData.approved = true'. Parsing filter failed with error: Unsupported field \"structData.approved\" on comparison operators. Comparison operators include \">\", \"<\", \">=\", \"<=\", \"=\"..\"\n\tdebug_error_string = \"UNKNOWN:Error received from peer ipv4:192.178.129.95:443 {grpc_status:3, grpc_message:\"Invalid filter syntax \\'structData.approved = true\\'. Parsing filter failed with error: Unsupported field \\\"structData.approved\\\" on comparison operators. Comparison operators include \\\">\\\", \\\"<\\\", \\\">=\\\", \\\"<=\\\", \\\"=\\\"..\"}\"\n>",
      "\nThe above exception was the direct cause of the following exception:\n",
      "\u001b[31mInvalidArgument\u001b[39m                           Traceback (most recent call last)",
      "\u001b[36mCell\u001b[39m\u001b[36m \u001b[39m\u001b[32mIn[19]\u001b[39m\u001b[32m, line 3\u001b[39m\n\u001b[32m      1\u001b[39m SERVING_CONFIG = \u001b[33m\"\u001b[39m\u001b[33mprojects/815755318672/locations/us/collections/default_collection/dataStores/external-memory-connector_1756845276280_gcs_store/servingConfigs/default_config\u001b[39m\u001b[33m\"\u001b[39m\n\u001b[32m----> \u001b[39m\u001b[32m3\u001b[39m hits = \u001b[43mvertex_search_with_snippets\u001b[49m\u001b[43m(\u001b[49m\n\u001b[32m      4\u001b[39m \u001b[43m    \u001b[49m\u001b[43mserving_config_path\u001b[49m\u001b[43m=\u001b[49m\u001b[43mSERVING_CONFIG\u001b[49m\u001b[43m,\u001b[49m\n\u001b[32m      5\u001b[39m \u001b[43m    \u001b[49m\u001b[43mlocation\u001b[49m\u001b[43m=\u001b[49m\u001b[33;43m\"\u001b[39;49m\u001b[33;43mus\u001b[39;49m\u001b[33;43m\"\u001b[39;49m\u001b[43m,\u001b[49m\n\u001b[32m      6\u001b[39m \u001b[43m    \u001b[49m\u001b[43mquery\u001b[49m\u001b[43m=\u001b[49m\u001b[33;43m\"\u001b[39;49m\u001b[33;43mJak zaprojektować mechanizm retry i rollback w odkrywaniu przyczynowości?\u001b[39;49m\u001b[33;43m\"\u001b[39;49m\u001b[43m,\u001b[49m\n\u001b[32m      7\u001b[39m \u001b[43m    \u001b[49m\u001b[43mtop_k\u001b[49m\u001b[43m=\u001b[49m\u001b[32;43m3\u001b[39;49m\u001b[43m,\u001b[49m\n\u001b[32m      8\u001b[39m \u001b[43m    \u001b[49m\u001b[43mfilter_str\u001b[49m\u001b[43m=\u001b[49m\u001b[33;43m'\u001b[39;49m\u001b[33;43mstructData.approved = true\u001b[39;49m\u001b[33;43m'\u001b[39;49m\u001b[43m  \u001b[49m\u001b[38;5;66;43;03m# na próbę możesz usunąć filtr\u001b[39;49;00m\n\u001b[32m      9\u001b[39m \u001b[43m)\u001b[49m\n\u001b[32m     10\u001b[39m \u001b[38;5;28;01mfor\u001b[39;00m h \u001b[38;5;129;01min\u001b[39;00m hits:\n\u001b[32m     11\u001b[39m     \u001b[38;5;28mprint\u001b[39m(h[\u001b[33m\"\u001b[39m\u001b[33mid\u001b[39m\u001b[33m\"\u001b[39m], \u001b[33m\"\u001b[39m\u001b[33m→\u001b[39m\u001b[33m\"\u001b[39m, (h[\u001b[33m\"\u001b[39m\u001b[33msnippet\u001b[39m\u001b[33m\"\u001b[39m][:\u001b[32m140\u001b[39m] + \u001b[33m\"\u001b[39m\u001b[33m…\u001b[39m\u001b[33m\"\u001b[39m) \u001b[38;5;28;01mif\u001b[39;00m \u001b[38;5;28mlen\u001b[39m(h[\u001b[33m\"\u001b[39m\u001b[33msnippet\u001b[39m\u001b[33m\"\u001b[39m])>\u001b[32m140\u001b[39m \u001b[38;5;28;01melse\u001b[39;00m h[\u001b[33m\"\u001b[39m\u001b[33msnippet\u001b[39m\u001b[33m\"\u001b[39m])\n",
      "\u001b[36mCell\u001b[39m\u001b[36m \u001b[39m\u001b[32mIn[18]\u001b[39m\u001b[32m, line 31\u001b[39m, in \u001b[36mvertex_search_with_snippets\u001b[39m\u001b[34m(serving_config_path, location, query, top_k, filter_str)\u001b[39m\n\u001b[32m     18\u001b[39m req = de.SearchRequest(\n\u001b[32m     19\u001b[39m     serving_config=serving_config_path,\n\u001b[32m     20\u001b[39m     query=query,\n\u001b[32m   (...)\u001b[39m\u001b[32m     27\u001b[39m     ),\n\u001b[32m     28\u001b[39m )\n\u001b[32m     30\u001b[39m out = []\n\u001b[32m---> \u001b[39m\u001b[32m31\u001b[39m resp = \u001b[43mclient\u001b[49m\u001b[43m.\u001b[49m\u001b[43msearch\u001b[49m\u001b[43m(\u001b[49m\u001b[43mrequest\u001b[49m\u001b[43m=\u001b[49m\u001b[43mreq\u001b[49m\u001b[43m)\u001b[49m\n\u001b[32m     32\u001b[39m \u001b[38;5;28;01mfor\u001b[39;00m r \u001b[38;5;129;01min\u001b[39;00m resp:\n\u001b[32m     33\u001b[39m     doc = r.document\n",
      "\u001b[36mFile \u001b[39m\u001b[32m/opt/conda/envs/agents_with_memory_py11/lib/python3.11/site-packages/google/cloud/discoveryengine_v1/services/search_service/client.py:922\u001b[39m, in \u001b[36mSearchServiceClient.search\u001b[39m\u001b[34m(self, request, retry, timeout, metadata)\u001b[39m\n\u001b[32m    919\u001b[39m \u001b[38;5;28mself\u001b[39m._validate_universe_domain()\n\u001b[32m    921\u001b[39m \u001b[38;5;66;03m# Send the request.\u001b[39;00m\n\u001b[32m--> \u001b[39m\u001b[32m922\u001b[39m response = \u001b[43mrpc\u001b[49m\u001b[43m(\u001b[49m\n\u001b[32m    923\u001b[39m \u001b[43m    \u001b[49m\u001b[43mrequest\u001b[49m\u001b[43m,\u001b[49m\n\u001b[32m    924\u001b[39m \u001b[43m    \u001b[49m\u001b[43mretry\u001b[49m\u001b[43m=\u001b[49m\u001b[43mretry\u001b[49m\u001b[43m,\u001b[49m\n\u001b[32m    925\u001b[39m \u001b[43m    \u001b[49m\u001b[43mtimeout\u001b[49m\u001b[43m=\u001b[49m\u001b[43mtimeout\u001b[49m\u001b[43m,\u001b[49m\n\u001b[32m    926\u001b[39m \u001b[43m    \u001b[49m\u001b[43mmetadata\u001b[49m\u001b[43m=\u001b[49m\u001b[43mmetadata\u001b[49m\u001b[43m,\u001b[49m\n\u001b[32m    927\u001b[39m \u001b[43m\u001b[49m\u001b[43m)\u001b[49m\n\u001b[32m    929\u001b[39m \u001b[38;5;66;03m# This method is paged; wrap the response in a pager, which provides\u001b[39;00m\n\u001b[32m    930\u001b[39m \u001b[38;5;66;03m# an `__iter__` convenience method.\u001b[39;00m\n\u001b[32m    931\u001b[39m response = pagers.SearchPager(\n\u001b[32m    932\u001b[39m     method=rpc,\n\u001b[32m    933\u001b[39m     request=request,\n\u001b[32m   (...)\u001b[39m\u001b[32m    937\u001b[39m     metadata=metadata,\n\u001b[32m    938\u001b[39m )\n",
      "\u001b[36mFile \u001b[39m\u001b[32m/opt/conda/envs/agents_with_memory_py11/lib/python3.11/site-packages/google/api_core/gapic_v1/method.py:131\u001b[39m, in \u001b[36m_GapicCallable.__call__\u001b[39m\u001b[34m(self, timeout, retry, compression, *args, **kwargs)\u001b[39m\n\u001b[32m    128\u001b[39m \u001b[38;5;28;01mif\u001b[39;00m \u001b[38;5;28mself\u001b[39m._compression \u001b[38;5;129;01mis\u001b[39;00m \u001b[38;5;129;01mnot\u001b[39;00m \u001b[38;5;28;01mNone\u001b[39;00m:\n\u001b[32m    129\u001b[39m     kwargs[\u001b[33m\"\u001b[39m\u001b[33mcompression\u001b[39m\u001b[33m\"\u001b[39m] = compression\n\u001b[32m--> \u001b[39m\u001b[32m131\u001b[39m \u001b[38;5;28;01mreturn\u001b[39;00m \u001b[43mwrapped_func\u001b[49m\u001b[43m(\u001b[49m\u001b[43m*\u001b[49m\u001b[43margs\u001b[49m\u001b[43m,\u001b[49m\u001b[43m \u001b[49m\u001b[43m*\u001b[49m\u001b[43m*\u001b[49m\u001b[43mkwargs\u001b[49m\u001b[43m)\u001b[49m\n",
      "\u001b[36mFile \u001b[39m\u001b[32m/opt/conda/envs/agents_with_memory_py11/lib/python3.11/site-packages/google/api_core/grpc_helpers.py:78\u001b[39m, in \u001b[36m_wrap_unary_errors.<locals>.error_remapped_callable\u001b[39m\u001b[34m(*args, **kwargs)\u001b[39m\n\u001b[32m     76\u001b[39m     \u001b[38;5;28;01mreturn\u001b[39;00m callable_(*args, **kwargs)\n\u001b[32m     77\u001b[39m \u001b[38;5;28;01mexcept\u001b[39;00m grpc.RpcError \u001b[38;5;28;01mas\u001b[39;00m exc:\n\u001b[32m---> \u001b[39m\u001b[32m78\u001b[39m     \u001b[38;5;28;01mraise\u001b[39;00m exceptions.from_grpc_error(exc) \u001b[38;5;28;01mfrom\u001b[39;00m\u001b[38;5;250m \u001b[39m\u001b[34;01mexc\u001b[39;00m\n",
      "\u001b[31mInvalidArgument\u001b[39m: 400 Invalid filter syntax 'structData.approved = true'. Parsing filter failed with error: Unsupported field \"structData.approved\" on comparison operators. Comparison operators include \">\", \"<\", \">=\", \"<=\", \"=\".."
     ]
    }
   ],
   "source": [
    "SERVING_CONFIG = \"projects/815755318672/locations/us/collections/default_collection/dataStores/external-memory-connector_1756845276280_gcs_store/servingConfigs/default_config\"\n",
    "\n",
    "hits = vertex_search_with_snippets(\n",
    "    serving_config_path=SERVING_CONFIG,\n",
    "    location=\"us\",\n",
    "    query=\"Jak zaprojektować mechanizm retry i rollback w odkrywaniu przyczynowości?\",\n",
    "    top_k=3,\n",
    "    filter_str='structData.approved = true'  # na próbę możesz usunąć filtr\n",
    ")\n",
    "for h in hits:\n",
    "    print(h[\"id\"], \"→\", (h[\"snippet\"][:140] + \"…\") if len(h[\"snippet\"])>140 else h[\"snippet\"])\n",
    "    print(\"TXT:\", h[\"txt_uri\"])\n",
    "    print(\"PLAN:\", h[\"links\"].get(\"plan_uri\"))\n",
    "    print(\"---\")"
   ]
  },
  {
   "cell_type": "code",
   "execution_count": 16,
   "id": "88cb73b0-be9f-4038-8111-97e0b4effc18",
   "metadata": {
    "tags": []
   },
   "outputs": [
    {
     "name": "stdout",
     "output_type": "stream",
     "text": [
      "20250829_212954_1e55a591 ->  None\n"
     ]
    }
   ],
   "source": [
    "# --- przykład użycia ---\n",
    "\n",
    "SERVING_CONFIG = \"projects/815755318672/locations/us/collections/default_collection/dataStores/external-memory-connector_1756845276280_gcs_store/servingConfigs/default_config\"\n",
    "\n",
    "results = test_vertex_search(\n",
    "    query=\"Jak zaprojektować mechanizm retry i rollback w odkrywaniu przyczynowości?\",\n",
    "    project_id=\"dark-data-discovery\",\n",
    "    location=\"us\",\n",
    "    data_store_id=\"external-memory-connector_1756845276280_gcs_store\"\n",
    ")\n",
    "for r in results:\n",
    "    print(r[\"id\"], \"->\", r[\"snippet\"], r[\"uri\"])"
   ]
  },
  {
   "cell_type": "code",
   "execution_count": null,
   "id": "ebfa2ce3-fc39-4336-9eeb-f7aba71dd421",
   "metadata": {},
   "outputs": [],
   "source": []
  }
 ],
 "metadata": {
  "environment": {
   "kernel": "agents_with_memory_p11",
   "name": "workbench-notebooks.m129",
   "type": "gcloud",
   "uri": "us-docker.pkg.dev/deeplearning-platform-release/gcr.io/workbench-notebooks:m129"
  },
  "kernelspec": {
   "display_name": "Agents with memory (Python 3.11)",
   "language": "python",
   "name": "agents_with_memory_p11"
  },
  "language_info": {
   "codemirror_mode": {
    "name": "ipython",
    "version": 3
   },
   "file_extension": ".py",
   "mimetype": "text/x-python",
   "name": "python",
   "nbconvert_exporter": "python",
   "pygments_lexer": "ipython3",
   "version": "3.11.13"
  }
 },
 "nbformat": 4,
 "nbformat_minor": 5
}
